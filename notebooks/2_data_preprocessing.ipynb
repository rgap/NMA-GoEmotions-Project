{
 "cells": [
  {
   "cell_type": "markdown",
   "metadata": {},
   "source": [
    "## Data Collection"
   ]
  },
  {
   "cell_type": "code",
   "execution_count": 68,
   "metadata": {},
   "outputs": [
    {
     "data": {
      "text/html": [
       "<div>\n",
       "<style scoped>\n",
       "    .dataframe tbody tr th:only-of-type {\n",
       "        vertical-align: middle;\n",
       "    }\n",
       "\n",
       "    .dataframe tbody tr th {\n",
       "        vertical-align: top;\n",
       "    }\n",
       "\n",
       "    .dataframe thead th {\n",
       "        text-align: right;\n",
       "    }\n",
       "</style>\n",
       "<table border=\"1\" class=\"dataframe\">\n",
       "  <thead>\n",
       "    <tr style=\"text-align: right;\">\n",
       "      <th></th>\n",
       "      <th>My favourite food is anything I didn't have to cook myself.</th>\n",
       "      <th>27</th>\n",
       "      <th>eebbqej</th>\n",
       "    </tr>\n",
       "  </thead>\n",
       "  <tbody>\n",
       "    <tr>\n",
       "      <th>0</th>\n",
       "      <td>Now if he does off himself, everyone will thin...</td>\n",
       "      <td>27</td>\n",
       "      <td>ed00q6i</td>\n",
       "    </tr>\n",
       "    <tr>\n",
       "      <th>1</th>\n",
       "      <td>WHY THE FUCK IS BAYLESS ISOING</td>\n",
       "      <td>2</td>\n",
       "      <td>eezlygj</td>\n",
       "    </tr>\n",
       "    <tr>\n",
       "      <th>2</th>\n",
       "      <td>To make her feel threatened</td>\n",
       "      <td>14</td>\n",
       "      <td>ed7ypvh</td>\n",
       "    </tr>\n",
       "  </tbody>\n",
       "</table>\n",
       "</div>"
      ],
      "text/plain": [
       "  My favourite food is anything I didn't have to cook myself.  27  eebbqej\n",
       "0  Now if he does off himself, everyone will thin...           27  ed00q6i\n",
       "1                     WHY THE FUCK IS BAYLESS ISOING            2  eezlygj\n",
       "2                        To make her feel threatened           14  ed7ypvh"
      ]
     },
     "execution_count": 68,
     "metadata": {},
     "output_type": "execute_result"
    }
   ],
   "source": [
    "import numpy as np\n",
    "import pandas as pd\n",
    "import torch\n",
    "from transformers import BertTokenizer\n",
    "\n",
    "def load_data(data_url):\n",
    "    return pd.read_csv(data_url, sep='\\t')\n",
    "\n",
    "# URLs for train\n",
    "train_data_url = 'https://raw.githubusercontent.com/google-research/google-research/master/goemotions/data/train.tsv'\n",
    "train_data = load_data(train_data_url)\n",
    "train_data.head(3)"
   ]
  },
  {
   "cell_type": "markdown",
   "metadata": {},
   "source": [
    "# Preprocessing\n",
    "\n",
    "### Keep relevant columns and remove some rows"
   ]
  },
  {
   "cell_type": "code",
   "execution_count": 69,
   "metadata": {},
   "outputs": [
    {
     "data": {
      "text/html": [
       "<div>\n",
       "<style scoped>\n",
       "    .dataframe tbody tr th:only-of-type {\n",
       "        vertical-align: middle;\n",
       "    }\n",
       "\n",
       "    .dataframe tbody tr th {\n",
       "        vertical-align: top;\n",
       "    }\n",
       "\n",
       "    .dataframe thead th {\n",
       "        text-align: right;\n",
       "    }\n",
       "</style>\n",
       "<table border=\"1\" class=\"dataframe\">\n",
       "  <thead>\n",
       "    <tr style=\"text-align: right;\">\n",
       "      <th></th>\n",
       "      <th>comment</th>\n",
       "      <th>emotion</th>\n",
       "    </tr>\n",
       "  </thead>\n",
       "  <tbody>\n",
       "    <tr>\n",
       "      <th>0</th>\n",
       "      <td>Now if he does off himself, everyone will thin...</td>\n",
       "      <td>27</td>\n",
       "    </tr>\n",
       "    <tr>\n",
       "      <th>1</th>\n",
       "      <td>WHY THE FUCK IS BAYLESS ISOING</td>\n",
       "      <td>2</td>\n",
       "    </tr>\n",
       "    <tr>\n",
       "      <th>2</th>\n",
       "      <td>To make her feel threatened</td>\n",
       "      <td>14</td>\n",
       "    </tr>\n",
       "  </tbody>\n",
       "</table>\n",
       "</div>"
      ],
      "text/plain": [
       "                                             comment  emotion\n",
       "0  Now if he does off himself, everyone will thin...       27\n",
       "1                     WHY THE FUCK IS BAYLESS ISOING        2\n",
       "2                        To make her feel threatened       14"
      ]
     },
     "execution_count": 69,
     "metadata": {},
     "output_type": "execute_result"
    }
   ],
   "source": [
    "# Preprocess the data: rename columns and remove multiple emotions\n",
    "def preprocess_data(data):\n",
    "    # Define the header names\n",
    "    header = [\"comment\", \"emotion\", \"id\"]\n",
    "    # Rename the columns\n",
    "    data.columns = header\n",
    "    # Keep only the 'comment' and 'emotion' columns\n",
    "    data = data[['comment', 'emotion']]\n",
    "    # Filter out rows with multiple emotions (emotions separated by commas)\n",
    "    data = data[data['emotion'].apply(lambda x: len(x.split(',')) == 1)]\n",
    "    # Clean the 'emotion' column by keeping only digit characters and converting to integers\n",
    "    data['emotion'] = data['emotion'].apply(lambda x: ''.join(filter(str.isdigit, str(x)))).astype(int)\n",
    "    return data\n",
    "\n",
    "preprocessed_data = preprocess_data(train_data)\n",
    "preprocessed_data.head(3)"
   ]
  },
  {
   "cell_type": "markdown",
   "metadata": {},
   "source": [
    "### Filter top emotions for testing"
   ]
  },
  {
   "cell_type": "code",
   "execution_count": 70,
   "metadata": {},
   "outputs": [
    {
     "name": "stdout",
     "output_type": "stream",
     "text": [
      "Top 2 most common emotions: ['neutral', 'admiration']\n"
     ]
    }
   ],
   "source": [
    "# Filter the data to include only the top N most common emotions\n",
    "def filter_top_emotions(data, top_n=2):\n",
    "    # Count the occurrences of each emotion\n",
    "    emotion_counts = data['emotion'].value_counts()\n",
    "    # Identify the top N most common emotions\n",
    "    top_emotions = emotion_counts.head(top_n).index\n",
    "    # Create a mapping from the original emotion labels to new labels (0, 1, ...)\n",
    "    label_mapping = {label: new_label for new_label, label in enumerate(top_emotions)}\n",
    "    # Filter the data to include only the rows with the top N emotions\n",
    "    filtered_data = data[data['emotion'].isin(top_emotions)].copy()\n",
    "    # Apply the new label mapping to the 'emotion' column\n",
    "    filtered_data.loc[:, 'emotion'] = filtered_data['emotion'].map(label_mapping)\n",
    "    return filtered_data, label_mapping\n",
    "\n",
    "filtered_train_data, label_mapping = filter_top_emotions(preprocessed_data)\n",
    "filtered_train_data.head(3)\n",
    "\n",
    "# Map the new labels to their original emotion names\n",
    "emotions_dict = {\n",
    "    0: \"admiration\", 1: \"amusement\", 2: \"anger\", 3: \"annoyance\", 4: \"approval\",\n",
    "    5: \"caring\", 6: \"confusion\", 7: \"curiosity\", 8: \"desire\", 9: \"disappointment\",\n",
    "    10: \"disapproval\", 11: \"disgust\", 12: \"embarrassment\", 13: \"excitement\", 14: \"fear\",\n",
    "    15: \"gratitude\", 16: \"grief\", 17: \"joy\", 18: \"love\", 19: \"nervousness\",\n",
    "    20: \"optimism\", 21: \"pride\", 22: \"realization\", 23: \"relief\", 24: \"remorse\",\n",
    "    25: \"sadness\", 26: \"surprise\", 27: \"neutral\"\n",
    "}\n",
    "top_emotions_dict = {label_mapping[k]: emotions_dict[k] for k in label_mapping}\n",
    "\n",
    "print(\"Top 2 most common emotions:\", [top_emotions_dict[e] for e in sorted(top_emotions_dict)])"
   ]
  },
  {
   "cell_type": "markdown",
   "metadata": {},
   "source": [
    "### Sample a fraction of the data for each emotion category"
   ]
  },
  {
   "cell_type": "code",
   "execution_count": 71,
   "metadata": {},
   "outputs": [
    {
     "name": "stdout",
     "output_type": "stream",
     "text": [
      "sampled_train_data.shape (1553, 2)\n"
     ]
    },
    {
     "name": "stderr",
     "output_type": "stream",
     "text": [
      "/var/folders/xd/gw_pmm5d23s8dm3h09tn28x00000gn/T/ipykernel_79046/1999367012.py:4: DeprecationWarning: DataFrameGroupBy.apply operated on the grouping columns. This behavior is deprecated, and in a future version of pandas the grouping columns will be excluded from the operation. Either pass `include_groups=False` to exclude the groupings or explicitly select the grouping columns after groupby to silence this warning.\n",
      "  return data.groupby('emotion', group_keys=False).apply(lambda x: x.sample(frac=fraction)).reset_index(drop=True)\n"
     ]
    },
    {
     "data": {
      "text/html": [
       "<div>\n",
       "<style scoped>\n",
       "    .dataframe tbody tr th:only-of-type {\n",
       "        vertical-align: middle;\n",
       "    }\n",
       "\n",
       "    .dataframe tbody tr th {\n",
       "        vertical-align: top;\n",
       "    }\n",
       "\n",
       "    .dataframe thead th {\n",
       "        text-align: right;\n",
       "    }\n",
       "</style>\n",
       "<table border=\"1\" class=\"dataframe\">\n",
       "  <thead>\n",
       "    <tr style=\"text-align: right;\">\n",
       "      <th></th>\n",
       "      <th>comment</th>\n",
       "      <th>emotion</th>\n",
       "    </tr>\n",
       "  </thead>\n",
       "  <tbody>\n",
       "    <tr>\n",
       "      <th>0</th>\n",
       "      <td>Perhaps the person who named it didn't underst...</td>\n",
       "      <td>0</td>\n",
       "    </tr>\n",
       "    <tr>\n",
       "      <th>1</th>\n",
       "      <td>Then be happy for that. If you gave friends th...</td>\n",
       "      <td>0</td>\n",
       "    </tr>\n",
       "    <tr>\n",
       "      <th>2</th>\n",
       "      <td>Tell your wife you accept her offer to find an...</td>\n",
       "      <td>0</td>\n",
       "    </tr>\n",
       "  </tbody>\n",
       "</table>\n",
       "</div>"
      ],
      "text/plain": [
       "                                             comment  emotion\n",
       "0  Perhaps the person who named it didn't underst...        0\n",
       "1  Then be happy for that. If you gave friends th...        0\n",
       "2  Tell your wife you accept her offer to find an...        0"
      ]
     },
     "execution_count": 71,
     "metadata": {},
     "output_type": "execute_result"
    }
   ],
   "source": [
    "# Sample a fraction of the data for each emotion category\n",
    "def sample_data(data, fraction=0.1):\n",
    "    # Group the data by 'emotion' and sample a specified fraction of each group\n",
    "    return data.groupby('emotion', group_keys=False).apply(lambda x: x.sample(frac=fraction)).reset_index(drop=True)\n",
    "\n",
    "sampled_train_data = sample_data(filtered_train_data)\n",
    "print(\"sampled_train_data.shape\", sampled_train_data.shape)\n",
    "sampled_train_data.head(3)"
   ]
  },
  {
   "cell_type": "markdown",
   "metadata": {},
   "source": [
    "### Remove emotions"
   ]
  },
  {
   "cell_type": "code",
   "execution_count": 72,
   "metadata": {},
   "outputs": [
    {
     "name": "stdout",
     "output_type": "stream",
     "text": [
      "remove_emotions_train_data.shape (1282, 2)\n"
     ]
    }
   ],
   "source": [
    "def remove_emotions(data, emotions_to_remove):\n",
    "    # Remove specified emotions and create a copy to avoid SettingWithCopyWarning\n",
    "    data = data[~data['emotion'].isin(emotions_to_remove)].copy()\n",
    "    # Get sorted unique emotions\n",
    "    unique_emotions = sorted(data['emotion'].unique())\n",
    "    # Create a mapping from old label to new label\n",
    "    label_mapping = {old_label: new_label for new_label, old_label in enumerate(unique_emotions)}\n",
    "    # Map new labels to the data\n",
    "    data.loc[:, 'emotion'] = data['emotion'].map(label_mapping)\n",
    "    return data, label_mapping\n",
    "\n",
    "remove_emotions_train_data, label_mapping = remove_emotions(sampled_train_data, emotions_to_remove=[1, 15])  # Remove 'amusement' (1) and 'gratitude' (15)\n",
    "print(\"remove_emotions_train_data.shape\", remove_emotions_train_data.shape)"
   ]
  },
  {
   "cell_type": "markdown",
   "metadata": {},
   "source": [
    "### Mapping from the 28 emotions to six broader categories"
   ]
  },
  {
   "cell_type": "code",
   "execution_count": 73,
   "metadata": {},
   "outputs": [
    {
     "name": "stdout",
     "output_type": "stream",
     "text": [
      "[0 1 4 2 3]\n"
     ]
    },
    {
     "data": {
      "text/html": [
       "<div>\n",
       "<style scoped>\n",
       "    .dataframe tbody tr th:only-of-type {\n",
       "        vertical-align: middle;\n",
       "    }\n",
       "\n",
       "    .dataframe tbody tr th {\n",
       "        vertical-align: top;\n",
       "    }\n",
       "\n",
       "    .dataframe thead th {\n",
       "        text-align: right;\n",
       "    }\n",
       "</style>\n",
       "<table border=\"1\" class=\"dataframe\">\n",
       "  <thead>\n",
       "    <tr style=\"text-align: right;\">\n",
       "      <th></th>\n",
       "      <th>comment</th>\n",
       "      <th>emotion</th>\n",
       "    </tr>\n",
       "  </thead>\n",
       "  <tbody>\n",
       "    <tr>\n",
       "      <th>0</th>\n",
       "      <td>Now if he does off himself, everyone will thin...</td>\n",
       "      <td>0</td>\n",
       "    </tr>\n",
       "    <tr>\n",
       "      <th>1</th>\n",
       "      <td>WHY THE FUCK IS BAYLESS ISOING</td>\n",
       "      <td>1</td>\n",
       "    </tr>\n",
       "    <tr>\n",
       "      <th>2</th>\n",
       "      <td>To make her feel threatened</td>\n",
       "      <td>4</td>\n",
       "    </tr>\n",
       "    <tr>\n",
       "      <th>3</th>\n",
       "      <td>Dirty Southern Wankers</td>\n",
       "      <td>1</td>\n",
       "    </tr>\n",
       "  </tbody>\n",
       "</table>\n",
       "</div>"
      ],
      "text/plain": [
       "                                             comment  emotion\n",
       "0  Now if he does off himself, everyone will thin...        0\n",
       "1                     WHY THE FUCK IS BAYLESS ISOING        1\n",
       "2                        To make her feel threatened        4\n",
       "3                             Dirty Southern Wankers        1"
      ]
     },
     "execution_count": 73,
     "metadata": {},
     "output_type": "execute_result"
    }
   ],
   "source": [
    "# Function to map emotion ids to broader categories and then to integers\n",
    "def map_emotions(data):\n",
    "\n",
    "    # Define a mapping from the 28 emotions to six broader categories\n",
    "    emotion_mapping = {\n",
    "        \"admiration\": \"positive_intent\", \"amusement\": \"positive_intent\", \"anger\": \"negative_intent\", \"annoyance\": \"negative_intent\",\n",
    "        \"approval\": \"positive_intent\", \"caring\": \"positive_intent\", \"confusion\": \"inquiry\", \"curiosity\": \"inquiry\",\n",
    "        \"desire\": \"positive_intent\", \"disappointment\": \"negative_intent\", \"disapproval\": \"negative_intent\", \"disgust\": \"negative_intent\",\n",
    "        \"embarrassment\": \"negative_intent\", \"excitement\": \"positive_intent\", \"fear\": \"urgency\", \"gratitude\": \"positive_intent\",\n",
    "        \"grief\": \"negative_intent\", \"joy\": \"positive_intent\", \"love\": \"positive_intent\", \"nervousness\": \"urgency\",\n",
    "        \"optimism\": \"positive_intent\", \"pride\": \"positive_intent\", \"realization\": \"inquiry\", \"relief\": \"positive_intent\",\n",
    "        \"remorse\": \"negative_intent\", \"sadness\": \"negative_intent\", \"surprise\": \"positive_intent\", \"neutral\": \"neutral\"\n",
    "    }\n",
    "\n",
    "    # Define a mapping from broader categories to integers\n",
    "    category_to_int_mapping = {\n",
    "        \"neutral\": 0, \"negative_intent\": 1, \"positive_intent\": 2, \"inquiry\": 3, \"urgency\": 4\n",
    "    }\n",
    "\n",
    "    # Emotions dictionary inside the function for mapping\n",
    "    def map_emotion(emotion_id):\n",
    "        original_emotion = emotions_dict.get(int(emotion_id), 'other')\n",
    "        category = emotion_mapping.get(original_emotion, 'other')\n",
    "        return category_to_int_mapping.get(category, -1)  # Use -1 for any unmapped categories\n",
    "\n",
    "    data['emotion'] = data['emotion'].apply(map_emotion)\n",
    "    return data\n",
    "\n",
    "map_emotions_train_data = map_emotions(preprocessed_data)\n",
    "print(map_emotions_train_data['emotion'].unique())\n",
    "map_emotions_train_data.head(4)"
   ]
  }
 ],
 "metadata": {
  "kernelspec": {
   "display_name": "testk",
   "language": "python",
   "name": "python3"
  },
  "language_info": {
   "codemirror_mode": {
    "name": "ipython",
    "version": 3
   },
   "file_extension": ".py",
   "mimetype": "text/x-python",
   "name": "python",
   "nbconvert_exporter": "python",
   "pygments_lexer": "ipython3",
   "version": "3.12.2"
  }
 },
 "nbformat": 4,
 "nbformat_minor": 2
}
