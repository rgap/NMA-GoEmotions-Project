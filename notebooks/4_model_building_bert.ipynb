{
 "cells": [
  {
   "cell_type": "markdown",
   "metadata": {},
   "source": [
    "## Data Collection and Feature Engineering steps"
   ]
  },
  {
   "cell_type": "code",
   "execution_count": 5,
   "metadata": {},
   "outputs": [],
   "source": [
    "import pandas as pd\n",
    "\n",
    "# Download and load the train data:\n",
    "train_data_url = 'https://raw.githubusercontent.com/google-research/google-research/2adf640a14f11025ae5a9d0ec493b78530d276d3/goemotions/data/train.tsv'\n",
    "\n",
    "# Load the files into dataframes\n",
    "train_data = pd.read_csv(train_data_url, sep='\\t')\n",
    "\n",
    "# comment will be the only feature\n",
    "# emotion will be the target (multiple labels)\n",
    "header = [\"comment\", \"emotion\", \"id\"]\n",
    "train_data.columns = header\n",
    "\n",
    "# Tokenize the comments using the BERT tokenizer (Convert comments into Tokens)\n",
    "from transformers import BertTokenizerFast\n",
    "tokenizer = BertTokenizerFast.from_pretrained('bert-base-uncased')\n",
    "tokenized_comments = tokenizer(train_data['comment'].to_list(), padding=True, truncation=True, return_tensors='pt')\n",
    "\n",
    "# Convert tokenized data to numpy arrays\n",
    "X = tokenized_comments['input_ids'].numpy()\n",
    "y = train_data['emotion'].values"
   ]
  },
  {
   "cell_type": "code",
   "execution_count": 13,
   "metadata": {},
   "outputs": [
    {
     "name": "stdout",
     "output_type": "stream",
     "text": [
      "X =  [[ 101 2085 2065 ...    0    0    0]\n",
      " [ 101 2339 1996 ...    0    0    0]\n",
      " [ 101 2000 2191 ...    0    0    0]\n",
      " ...\n",
      " [ 101 2054 2024 ...    0    0    0]\n",
      " [ 101 2062 2066 ...    0    0    0]\n",
      " [ 101 5959 1996 ...    0    0    0]]\n",
      "y =  ['27' '2' '14' ... '3' '13' '17']\n"
     ]
    }
   ],
   "source": [
    "from sklearn.model_selection import train_test_split\n",
    "\n",
    "# Convert tokenized data to numpy arrays\n",
    "X = tokenized_comments['input_ids'].numpy()\n",
    "y = train_data['emotion'].values\n",
    "\n",
    "print(\"X = \", X)\n",
    "print(\"y = \", y)\n",
    "\n",
    "# Split the data into training and testing sets\n",
    "X_train, X_test, y_train, y_test = train_test_split(X, y, test_size=0.2, random_state=42)"
   ]
  },
  {
   "cell_type": "code",
   "execution_count": null,
   "metadata": {},
   "outputs": [],
   "source": []
  },
  {
   "cell_type": "code",
   "execution_count": 6,
   "metadata": {},
   "outputs": [
    {
     "name": "stderr",
     "output_type": "stream",
     "text": [
      "Some weights of BertForSequenceClassification were not initialized from the model checkpoint at bert-base-uncased and are newly initialized: ['classifier.bias', 'classifier.weight']\n",
      "You should probably TRAIN this model on a down-stream task to be able to use it for predictions and inference.\n"
     ]
    }
   ],
   "source": [
    "from transformers import BertForSequenceClassification\n",
    "# Load the BERT model\n",
    "# we will use the bert-base-uncased model\n",
    "# this model will classify the comments into 28 emotions\n",
    "\n",
    "model = BertForSequenceClassification.from_pretrained('bert-base-uncased', num_labels=28)"
   ]
  },
  {
   "cell_type": "markdown",
   "metadata": {},
   "source": [
    "Going back to the research question, the research question could be \"Can we predict the sentiment of a text?\"\n",
    "\n",
    "Our first research question is now:\n",
    "\n",
    "**How can different transformer-based models classify textual emotions effectively?**\n",
    "\n",
    "We start with the BERT Classifier."
   ]
  },
  {
   "cell_type": "code",
   "execution_count": null,
   "metadata": {},
   "outputs": [],
   "source": []
  },
  {
   "cell_type": "markdown",
   "metadata": {},
   "source": []
  },
  {
   "cell_type": "code",
   "execution_count": null,
   "metadata": {},
   "outputs": [],
   "source": []
  }
 ],
 "metadata": {
  "kernelspec": {
   "display_name": "testk",
   "language": "python",
   "name": "python3"
  },
  "language_info": {
   "codemirror_mode": {
    "name": "ipython",
    "version": 3
   },
   "file_extension": ".py",
   "mimetype": "text/x-python",
   "name": "python",
   "nbconvert_exporter": "python",
   "pygments_lexer": "ipython3",
   "version": "3.12.2"
  }
 },
 "nbformat": 4,
 "nbformat_minor": 2
}
