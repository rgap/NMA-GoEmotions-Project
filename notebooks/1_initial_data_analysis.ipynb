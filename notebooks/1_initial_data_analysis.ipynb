{
 "cells": [
  {
   "cell_type": "markdown",
   "metadata": {},
   "source": [
    "# Sentiment Analysis Thing"
   ]
  },
  {
   "cell_type": "code",
   "execution_count": 20,
   "metadata": {},
   "outputs": [],
   "source": [
    "import pandas as pd\n",
    "\n",
    "# Download the test data\n",
    "test_data_url = \"https://raw.githubusercontent.com/google-research/google-research/master/goemotions/data/test.tsv\"\n",
    "# Download and load the train data:\n",
    "train_data_url = 'https://raw.githubusercontent.com/google-research/google-research/2adf640a14f11025ae5a9d0ec493b78530d276d3/goemotions/data/train.tsv'\n",
    "# Download and load the validation data:\n",
    "dev_data_url = 'https://raw.githubusercontent.com/google-research/google-research/2adf640a14f11025ae5a9d0ec493b78530d276d3/goemotions/data/dev.tsv'\n",
    "\n",
    "# Load the files into dataframes\n",
    "train_data = pd.read_csv(train_data_url, sep='\\t')\n",
    "dev_data = pd.read_csv(dev_data_url, sep='\\t')\n",
    "test_data = pd.read_csv(test_data_url, sep='\\t')"
   ]
  },
  {
   "cell_type": "markdown",
   "metadata": {},
   "source": [
    "# Data Understanding\n",
    "\n",
    "## Checking each dataset"
   ]
  },
  {
   "cell_type": "code",
   "execution_count": 21,
   "metadata": {},
   "outputs": [
    {
     "data": {
      "text/html": [
       "<div>\n",
       "<style scoped>\n",
       "    .dataframe tbody tr th:only-of-type {\n",
       "        vertical-align: middle;\n",
       "    }\n",
       "\n",
       "    .dataframe tbody tr th {\n",
       "        vertical-align: top;\n",
       "    }\n",
       "\n",
       "    .dataframe thead th {\n",
       "        text-align: right;\n",
       "    }\n",
       "</style>\n",
       "<table border=\"1\" class=\"dataframe\">\n",
       "  <thead>\n",
       "    <tr style=\"text-align: right;\">\n",
       "      <th></th>\n",
       "      <th>My favourite food is anything I didn't have to cook myself.</th>\n",
       "      <th>27</th>\n",
       "      <th>eebbqej</th>\n",
       "    </tr>\n",
       "  </thead>\n",
       "  <tbody>\n",
       "    <tr>\n",
       "      <th>0</th>\n",
       "      <td>Now if he does off himself, everyone will thin...</td>\n",
       "      <td>27</td>\n",
       "      <td>ed00q6i</td>\n",
       "    </tr>\n",
       "    <tr>\n",
       "      <th>1</th>\n",
       "      <td>WHY THE FUCK IS BAYLESS ISOING</td>\n",
       "      <td>2</td>\n",
       "      <td>eezlygj</td>\n",
       "    </tr>\n",
       "  </tbody>\n",
       "</table>\n",
       "</div>"
      ],
      "text/plain": [
       "  My favourite food is anything I didn't have to cook myself.  27  eebbqej\n",
       "0  Now if he does off himself, everyone will thin...           27  ed00q6i\n",
       "1                     WHY THE FUCK IS BAYLESS ISOING            2  eezlygj"
      ]
     },
     "execution_count": 21,
     "metadata": {},
     "output_type": "execute_result"
    }
   ],
   "source": [
    "# Checking each dataset\n",
    "train_data.head(2)"
   ]
  },
  {
   "cell_type": "code",
   "execution_count": 22,
   "metadata": {},
   "outputs": [
    {
     "data": {
      "text/html": [
       "<div>\n",
       "<style scoped>\n",
       "    .dataframe tbody tr th:only-of-type {\n",
       "        vertical-align: middle;\n",
       "    }\n",
       "\n",
       "    .dataframe tbody tr th {\n",
       "        vertical-align: top;\n",
       "    }\n",
       "\n",
       "    .dataframe thead th {\n",
       "        text-align: right;\n",
       "    }\n",
       "</style>\n",
       "<table border=\"1\" class=\"dataframe\">\n",
       "  <thead>\n",
       "    <tr style=\"text-align: right;\">\n",
       "      <th></th>\n",
       "      <th>Is this in New Orleans?? I really feel like this is New Orleans.</th>\n",
       "      <th>27</th>\n",
       "      <th>edgurhb</th>\n",
       "    </tr>\n",
       "  </thead>\n",
       "  <tbody>\n",
       "    <tr>\n",
       "      <th>0</th>\n",
       "      <td>You know the answer man, you are programmed to...</td>\n",
       "      <td>4,27</td>\n",
       "      <td>ee84bjg</td>\n",
       "    </tr>\n",
       "    <tr>\n",
       "      <th>1</th>\n",
       "      <td>I've never been this sad in my life!</td>\n",
       "      <td>25</td>\n",
       "      <td>edcu99z</td>\n",
       "    </tr>\n",
       "  </tbody>\n",
       "</table>\n",
       "</div>"
      ],
      "text/plain": [
       "  Is this in New Orleans?? I really feel like this is New Orleans.    27  \\\n",
       "0  You know the answer man, you are programmed to...                4,27   \n",
       "1               I've never been this sad in my life!                  25   \n",
       "\n",
       "   edgurhb  \n",
       "0  ee84bjg  \n",
       "1  edcu99z  "
      ]
     },
     "execution_count": 22,
     "metadata": {},
     "output_type": "execute_result"
    }
   ],
   "source": [
    "dev_data.head(2)"
   ]
  },
  {
   "cell_type": "code",
   "execution_count": 23,
   "metadata": {},
   "outputs": [
    {
     "data": {
      "text/html": [
       "<div>\n",
       "<style scoped>\n",
       "    .dataframe tbody tr th:only-of-type {\n",
       "        vertical-align: middle;\n",
       "    }\n",
       "\n",
       "    .dataframe tbody tr th {\n",
       "        vertical-align: top;\n",
       "    }\n",
       "\n",
       "    .dataframe thead th {\n",
       "        text-align: right;\n",
       "    }\n",
       "</style>\n",
       "<table border=\"1\" class=\"dataframe\">\n",
       "  <thead>\n",
       "    <tr style=\"text-align: right;\">\n",
       "      <th></th>\n",
       "      <th>I’m really sorry about your situation :( Although I love the names Sapphira, Cirilla, and Scarlett!</th>\n",
       "      <th>25</th>\n",
       "      <th>eecwqtt</th>\n",
       "    </tr>\n",
       "  </thead>\n",
       "  <tbody>\n",
       "    <tr>\n",
       "      <th>0</th>\n",
       "      <td>It's wonderful because it's awful. At not with.</td>\n",
       "      <td>0</td>\n",
       "      <td>ed5f85d</td>\n",
       "    </tr>\n",
       "    <tr>\n",
       "      <th>1</th>\n",
       "      <td>Kings fan here, good luck to you guys! Will be...</td>\n",
       "      <td>13</td>\n",
       "      <td>een27c3</td>\n",
       "    </tr>\n",
       "  </tbody>\n",
       "</table>\n",
       "</div>"
      ],
      "text/plain": [
       "  I’m really sorry about your situation :( Although I love the names Sapphira, Cirilla, and Scarlett!  \\\n",
       "0    It's wonderful because it's awful. At not with.                                                    \n",
       "1  Kings fan here, good luck to you guys! Will be...                                                    \n",
       "\n",
       "   25  eecwqtt  \n",
       "0   0  ed5f85d  \n",
       "1  13  een27c3  "
      ]
     },
     "execution_count": 23,
     "metadata": {},
     "output_type": "execute_result"
    }
   ],
   "source": [
    "test_data.head(2)"
   ]
  },
  {
   "cell_type": "markdown",
   "metadata": {},
   "source": [
    "## Describing the Shapes"
   ]
  },
  {
   "cell_type": "code",
   "execution_count": 24,
   "metadata": {},
   "outputs": [
    {
     "name": "stdout",
     "output_type": "stream",
     "text": [
      "train_data (43409, 3)\n"
     ]
    }
   ],
   "source": [
    "# checking shapes\n",
    "print(\"train_data\", train_data.shape)"
   ]
  },
  {
   "cell_type": "code",
   "execution_count": 25,
   "metadata": {},
   "outputs": [
    {
     "name": "stdout",
     "output_type": "stream",
     "text": [
      "dev_data (5425, 3)\n"
     ]
    }
   ],
   "source": [
    "print(\"dev_data\", dev_data.shape)"
   ]
  },
  {
   "cell_type": "code",
   "execution_count": 26,
   "metadata": {},
   "outputs": [
    {
     "name": "stdout",
     "output_type": "stream",
     "text": [
      "test_data (5426, 3)\n"
     ]
    }
   ],
   "source": [
    "print(\"test_data\", test_data.shape)"
   ]
  },
  {
   "cell_type": "markdown",
   "metadata": {},
   "source": [
    "## Adding a header\n",
    "\n",
    "We will use only train_data for data understanding.\n",
    "\n",
    "We add a header to train_data since it does not have one."
   ]
  },
  {
   "cell_type": "code",
   "execution_count": 27,
   "metadata": {},
   "outputs": [
    {
     "data": {
      "text/html": [
       "<div>\n",
       "<style scoped>\n",
       "    .dataframe tbody tr th:only-of-type {\n",
       "        vertical-align: middle;\n",
       "    }\n",
       "\n",
       "    .dataframe tbody tr th {\n",
       "        vertical-align: top;\n",
       "    }\n",
       "\n",
       "    .dataframe thead th {\n",
       "        text-align: right;\n",
       "    }\n",
       "</style>\n",
       "<table border=\"1\" class=\"dataframe\">\n",
       "  <thead>\n",
       "    <tr style=\"text-align: right;\">\n",
       "      <th></th>\n",
       "      <th>comment</th>\n",
       "      <th>emotion</th>\n",
       "      <th>id</th>\n",
       "    </tr>\n",
       "  </thead>\n",
       "  <tbody>\n",
       "    <tr>\n",
       "      <th>0</th>\n",
       "      <td>Now if he does off himself, everyone will thin...</td>\n",
       "      <td>27</td>\n",
       "      <td>ed00q6i</td>\n",
       "    </tr>\n",
       "    <tr>\n",
       "      <th>1</th>\n",
       "      <td>WHY THE FUCK IS BAYLESS ISOING</td>\n",
       "      <td>2</td>\n",
       "      <td>eezlygj</td>\n",
       "    </tr>\n",
       "    <tr>\n",
       "      <th>2</th>\n",
       "      <td>To make her feel threatened</td>\n",
       "      <td>14</td>\n",
       "      <td>ed7ypvh</td>\n",
       "    </tr>\n",
       "    <tr>\n",
       "      <th>3</th>\n",
       "      <td>Dirty Southern Wankers</td>\n",
       "      <td>3</td>\n",
       "      <td>ed0bdzj</td>\n",
       "    </tr>\n",
       "  </tbody>\n",
       "</table>\n",
       "</div>"
      ],
      "text/plain": [
       "                                             comment emotion       id\n",
       "0  Now if he does off himself, everyone will thin...      27  ed00q6i\n",
       "1                     WHY THE FUCK IS BAYLESS ISOING       2  eezlygj\n",
       "2                        To make her feel threatened      14  ed7ypvh\n",
       "3                             Dirty Southern Wankers       3  ed0bdzj"
      ]
     },
     "execution_count": 27,
     "metadata": {},
     "output_type": "execute_result"
    }
   ],
   "source": [
    "header = [\"comment\", \"emotion\", \"id\"]\n",
    "# Add header to test data\n",
    "train_data.columns = header\n",
    "# Print the data now\n",
    "train_data.head(4)"
   ]
  },
  {
   "cell_type": "markdown",
   "metadata": {},
   "source": [
    "# Understanding Emotions\n",
    "\n",
    "We have 28 emotions?"
   ]
  },
  {
   "cell_type": "code",
   "execution_count": 28,
   "metadata": {},
   "outputs": [
    {
     "data": {
      "text/plain": [
       "array(['27', '2', '14', '3', '26', '15', '8,20', '0', '6', '1,4', '5',\n",
       "       '3,12', '6,22', '6,9,27', '12', '16,25', '2,7', '17', '25', '0,15',\n",
       "       '15,18', '16,27', '7,13', '10', '20', '4', '13,15', '0,1', '13',\n",
       "       '1', '0,5', '0,13,15', '9', '4,22', '24', '18', '7', '6,7', '22',\n",
       "       '9,27', '4,5', '2,3', '0,8,15,17', '11', '7,15', '3,9,26', '13,18',\n",
       "       '23', '1,27', '7,18', '10,22', '4,15', '0,26', '10,27', '1,26',\n",
       "       '5,27', '8,27', '17,20', '10,20', '3,24', '2,27', '4,8', '3,27',\n",
       "       '0,7', '8,18', '17,26', '3,9', '21', '18,27', '0,4', '4,7', '0,20',\n",
       "       '16', '10,11', '0,1,17', '7,26', '14,26', '17,23', '24,25', '9,25',\n",
       "       '3,22', '1,18', '1,5', '7,10', '0,18', '3,10', '7,25', '6,9',\n",
       "       '3,18', '8', '0,27', '3,10,11', '3,6', '0,4,20', '0,25', '19',\n",
       "       '15,17', '7,27', '25,27', '1,17', '4,17', '0,17', '0,4,26', '2,11',\n",
       "       '22,27', '1,20', '13,26', '20,26', '15,27', '9,18', '1,25',\n",
       "       '6,7,9,26', '6,22,27', '5,7', '4,27', '2,10', '2,9,25', '9,10,25',\n",
       "       '13,17', '4,8,20,22', '1,22', '0,15,17', '1,10,18', '15,26',\n",
       "       '15,25', '15,17,18', '9,11', '9,22', '2,3,9', '6,10', '1,3,8',\n",
       "       '3,25', '0,6', '10,18', '4,6', '1,15', '4,17,20', '9,24',\n",
       "       '7,24,25', '5,10', '0,10', '0,1,4', '5,24', '7,11', '0,15,18',\n",
       "       '0,13', '7,12', '9,26', '4,20', '8,25', '9,17', '3,8', '6,7,27',\n",
       "       '6,7,14', '2,9', '7,22', '0,23', '9,10', '14,19', '1,6', '11,25',\n",
       "       '4,20,27', '4,10', '5,25', '3,4', '11,27', '15,24', '3,15', '5,20',\n",
       "       '7,13,17', '11,14', '1,10', '20,27', '3,20', '5,22', '26,27',\n",
       "       '6,8', '20,25', '0,8,15', '15,21', '12,27', '4,18', '0,17,20',\n",
       "       '14,27', '3,9,27', '15,20', '14,22', '6,13', '4,11', '4,14',\n",
       "       '22,25', '0,8', '17,27', '9,14', '0,9', '9,20', '9,19', '17,18',\n",
       "       '22,26', '2,3,10', '19,22', '1,15,17', '18,26', '2,3,10,11',\n",
       "       '0,14,26', '1,3', '15,22', '0,4,18', '7,20', '17,22', '0,4,5,17',\n",
       "       '15,23', '10,19', '10,25', '6,26', '13,17,21', '9,20,25', '1,13',\n",
       "       '0,22', '0,8,20', '8,9,20', '10,12', '3,11', '12,25', '6,27',\n",
       "       '8,9', '13,27', '0,8,18', '2,11,12', '1,24', '6,7,22', '1,2',\n",
       "       '2,11,27', '10,14', '6,18', '1,11', '4,25', '13,17,22', '0,21',\n",
       "       '5,6', '5,18', '3,5', '9,10,27', '10,24', '1,7,15', '1,7',\n",
       "       '4,15,23', '12,22', '1,20,24', '4,26', '5,8', '2,6', '6,15,26',\n",
       "       '7,17', '23,27', '10,21', '1,12,20', '4,17,22', '13,22', '2,3,5',\n",
       "       '2,9,11', '9,24,25', '14,18', '4,9', '21,27', '2,3,22', '0,15,26',\n",
       "       '5,17', '4,23', '20,24', '8,14', '5,8,20', '8,15', '8,10',\n",
       "       '7,10,17', '6,11', '5,9,25', '0,3', '2,20', '1,15,22', '4,21',\n",
       "       '8,22', '6,15', '22,24', '6,15,22', '8,24', '11,20', '13,20',\n",
       "       '5,15', '17,25', '16,19', '3,7,20', '0,10,15,22', '18,22', '18,24',\n",
       "       '4,15,24', '0,15,27', '18,20', '3,13', '12,16', '2,3,27', '2,15',\n",
       "       '11,15', '0,5,15', '1,9,22', '6,7,15', '2,25', '5,7,10', '16,26',\n",
       "       '7,24', '13,17,18', '6,14', '0,18,25', '8,11', '0,14', '11,22',\n",
       "       '5,13', '19,27', '3,17', '0,17,18', '5,14,19', '0,20,21', '7,9,26',\n",
       "       '6,25', '2,22', '1,18,24', '13,23', '7,18,25', '0,6,27', '3,7',\n",
       "       '10,15', '8,20,22', '10,26', '0,24', '13,17,18,26', '16,24,25',\n",
       "       '14,25', '11,18', '3,9,25', '12,22,24', '2,3,11', '4,9,25,27',\n",
       "       '19,25', '7,9', '20,22', '12,17', '2,23', '5,7,19', '6,24',\n",
       "       '8,15,20', '4,18,20', '13,21', '9,12,14,19,25', '1,14', '2,5',\n",
       "       '12,24', '2,4', '4,7,18', '11,24', '4,22,27', '0,6,10', '3,9,17',\n",
       "       '18,19,25', '4,5,20', '5,23', '18,23', '13,17,20', '5,14', '8,13',\n",
       "       '5,11,18', '7,10,11', '3,10,25', '9,22,25', '2,26', '2,3,4',\n",
       "       '9,15', '2,3,24', '7,14', '1,8', '2,4,5', '7,14,22', '3,26',\n",
       "       '3,6,7', '8,17', '2,3,15', '0,10,18', '0,13,18', '1,3,17',\n",
       "       '1,15,20', '12,18', '3,11,25', '6,17', '0,3,4', '25,26', '3,14',\n",
       "       '7,19', '14,22,25', '5,20,27', '1,3,10', '0,1,12', '6,17,18',\n",
       "       '4,24', '8,11,18', '2,3,7', '5,26', '0,5,20', '12,14', '11,13',\n",
       "       '0,18,22', '11,12', '0,1,13', '4,13', '0,6,7', '2,17', '0,4,22',\n",
       "       '6,7,26', '0,4,13', '1,23', '11,19', '3,9,11', '0,1,7', '20,23',\n",
       "       '5,7,20', '4,20,21', '24,27', '0,24,27', '20,24,25', '5,19',\n",
       "       '4,13,26', '0,4,9', '3,8,20', '8,13,17', '1,9', '0,4,9,18',\n",
       "       '0,4,15', '3,7,10', '7,11,25', '7,8', '1,2,3', '0,4,7,26',\n",
       "       '5,20,25', '12,14,27', '0,2', '7,9,25', '5,15,23', '5,9,20',\n",
       "       '20,21', '13,15,17', '6,12,25', '4,8,20', '2,18', '12,26', '6,7,9',\n",
       "       '2,10,25', '5,25,27', '1,15,18', '18,25', '2,14', '3,21', '0,4,5',\n",
       "       '3,4,7', '3,23', '5,18,27', '2,24', '17,21', '8,17,18', '4,18,27',\n",
       "       '0,11,12', '4,20,22', '6,19', '1,10,27', '5,9', '6,7,10', '3,9,22',\n",
       "       '3,10,12', '4,5,17', '4,17,27', '14,20', '9,10,24,25', '3,9,10',\n",
       "       '2,10,15', '18,19', '1,7,20', '0,4,17,22', '15,18,20', '3,6,10',\n",
       "       '10,23', '0,3,15', '1,12', '4,8,27', '14,17', '5,24,25', '7,15,20',\n",
       "       '5,13,18,20', '4,19', '7,9,24,25', '7,10,25', '9,10,19', '5,16',\n",
       "       '8,20,27', '0,11', '2,4,18', '22,26,27', '1,21', '24,26', '16,24',\n",
       "       '1,11,20', '9,12', '0,4,17', '5,20,24', '1,3,22', '1,17,18',\n",
       "       '18,20,27', '9,10,22', '18,20,25', '0,6,15', '1,4,10', '12,20',\n",
       "       '3,6,25', '2,11,25', '9,15,22', '0,9,15', '13,15,17,20', '3,8,22',\n",
       "       '3,14,25', '8,9,25', '0,6,7,15', '10,11,27', '9,13', '0,13,22',\n",
       "       '0,9,18', '5,20,22', '5,15,18', '1,17,20', '3,15,23', '0,18,27',\n",
       "       '0,5,18', '10,17,22', '14,24,25', '4,8,22', '0,13,17', '0,3,11',\n",
       "       '4,13,20', '14,20,25', '13,22,26', '2,3,6', '11,14,20', '2,9,12',\n",
       "       '0,15,20', '4,14,25', '0,14,25', '4,15,20', '1,10,15', '1,22,25',\n",
       "       '1,13,17', '22,23', '5,15,17', '7,26,27', '2,12', '1,6,7',\n",
       "       '15,20,24', '0,4,11,22', '9,12,22', '1,15,25', '17,24', '6,18,24',\n",
       "       '2,10,11', '9,16', '1,13,26', '0,9,25', '10,13,17', '2,14,19',\n",
       "       '0,4,11', '3,4,22', '0,4,24', '14,24', '0,7,13', '5,10,17',\n",
       "       '1,6,7,17', '6,7,8', '4,9,22', '1,6,15', '7,10,27', '4,5,27',\n",
       "       '4,22,24', '5,12,20', '10,17', '19,20', '6,20', '0,18,20',\n",
       "       '9,14,20', '20,22,25', '2,18,27', '8,13,18', '3,15,20', '19,26',\n",
       "       '8,10,20', '0,8,17', '7,23', '14,17,19', '9,17,18,25', '0,7,22',\n",
       "       '11,17', '2,19', '6,12', '4,7,27', '3,10,27', '15,17,20', '4,5,18',\n",
       "       '7,11,15', '5,8,22', '6,7,24', '14,19,27', '1,8,20', '0,14,19',\n",
       "       '6,18,20', '6,23', '12,20,21', '15,16,25', '13,17,26', '11,17,23',\n",
       "       '0,7,15', '3,19', '10,13', '2,3,12', '14,15', '4,12', '2,5,10',\n",
       "       '1,17,27', '3,11,14', '8,18,20', '4,9,11', '3,6,14', '0,4,13,17',\n",
       "       '0,3,9,18', '7,8,13', '2,9,10', '1,3,27', '7,18,26', '0,8,22',\n",
       "       '1,14,19', '3,4,27', '9,12,25', '0,16', '0,13,26', '2,3,21',\n",
       "       '2,3,26', '7,10,22', '0,21,26', '2,3,11,25', '15,24,25',\n",
       "       '14,15,25', '0,5,15,18', '1,15,17,23', '5,16,25', '1,4,20',\n",
       "       '13,24', '0,20,25', '7,15,26', '8,13,20', '1,6,17', '17,20,25',\n",
       "       '3,9,24', '4,7,8', '10,20,25', '8,26', '2,8', '0,4,25', '9,25,27',\n",
       "       '9,22,27', '5,11,20', '1,3,9', '7,20,26', '5,12', '0,1,11',\n",
       "       '1,14,17', '5,9,10', '3,15,22', '3,4,20', '19,23', '0,15,22',\n",
       "       '3,20,27', '3,7,27', '0,11,20', '5,7,15', '15,25,26', '8,16',\n",
       "       '13,25', '6,10,18', '0,20,22', '3,9,16', '4,13,27', '1,19',\n",
       "       '13,15,20', '3,7,11', '1,4,22', '9,10,11', '1,3,20', '3,16,25',\n",
       "       '0,15,24,25', '0,10,13', '7,22,26', '1,6,26', '13,20,21',\n",
       "       '5,14,27', '7,18,22', '0,12,13,26', '1,2,5,17', '13,14', '3,9,12',\n",
       "       '0,1,18'], dtype=object)"
      ]
     },
     "execution_count": 28,
     "metadata": {},
     "output_type": "execute_result"
    }
   ],
   "source": [
    "# Check emotions in the code. the \"emotion\" column\n",
    "train_data.emotion.unique()"
   ]
  },
  {
   "cell_type": "markdown",
   "metadata": {},
   "source": [
    "### Getting all emotions into a list"
   ]
  },
  {
   "cell_type": "code",
   "execution_count": 29,
   "metadata": {},
   "outputs": [
    {
     "data": {
      "text/plain": [
       "[27, 2, 14, 3, 26, 15, 8, 20, 0, 27]"
      ]
     },
     "execution_count": 29,
     "metadata": {},
     "output_type": "execute_result"
    }
   ],
   "source": [
    "train_data.emotion.str.split(',').head(10)\n",
    "# append all the emotions in the test data in a list but convert each one into integer\n",
    "emotions = []\n",
    "for i in train_data.emotion.str.split(','):\n",
    "    for j in i:\n",
    "        emotions.append(int(j))\n",
    "emotions[:10]"
   ]
  },
  {
   "cell_type": "markdown",
   "metadata": {},
   "source": [
    "### All emotions into a set to check all emotions available"
   ]
  },
  {
   "cell_type": "code",
   "execution_count": 30,
   "metadata": {},
   "outputs": [
    {
     "data": {
      "text/plain": [
       "[0, 1, 2, 3, 4, 5, 6, 7, 8, 9]"
      ]
     },
     "execution_count": 30,
     "metadata": {},
     "output_type": "execute_result"
    }
   ],
   "source": [
    "# There are 28 emotions in the test data\n",
    "set(emotions)\n",
    "# Show only 10\n",
    "list(set(emotions))[:10]"
   ]
  },
  {
   "cell_type": "code",
   "execution_count": 31,
   "metadata": {},
   "outputs": [],
   "source": [
    "\"\"\"\n",
    "Below are the 28 emotions in the test data\n",
    "admiration\n",
    "amusement\n",
    "anger\n",
    "annoyance\n",
    "approval\n",
    "caring\n",
    "confusion\n",
    "curiosity\n",
    "desire\n",
    "disappointment\n",
    "disapproval\n",
    "disgust\n",
    "embarrassment\n",
    "excitement\n",
    "fear\n",
    "gratitude\n",
    "grief\n",
    "joy\n",
    "love\n",
    "nervousness\n",
    "optimism\n",
    "pride\n",
    "realization\n",
    "relief\n",
    "remorse\n",
    "sadness\n",
    "surprise\n",
    "neutral\n",
    "\"\"\"\n",
    "# Making a dictionary of the emotions\n",
    "emotions_dict = {\n",
    "    0: \"admiration\",\n",
    "    1: \"amusement\",\n",
    "    2: \"anger\",\n",
    "    3: \"annoyance\",\n",
    "    4: \"approval\",\n",
    "    5: \"caring\",\n",
    "    6: \"confusion\",\n",
    "    7: \"curiosity\",\n",
    "    8: \"desire\",\n",
    "    9: \"disappointment\",\n",
    "    10: \"disapproval\",\n",
    "    11: \"disgust\",\n",
    "    12: \"embarrassment\",\n",
    "    13: \"excitement\",\n",
    "    14: \"fear\",\n",
    "    15: \"gratitude\",\n",
    "    16: \"grief\",\n",
    "    17: \"joy\",\n",
    "    18: \"love\",\n",
    "    19: \"nervousness\",\n",
    "    20: \"optimism\",\n",
    "    21: \"pride\",\n",
    "    22: \"realization\",\n",
    "    23: \"relief\",\n",
    "    24: \"remorse\",\n",
    "    25: \"sadness\",\n",
    "    26: \"surprise\",\n",
    "    27: \"neutral\"\n",
    "}"
   ]
  },
  {
   "cell_type": "markdown",
   "metadata": {},
   "source": [
    "### Instances with more than one emotion\n",
    "\n",
    "These are the instances where there is more than one emotion"
   ]
  },
  {
   "cell_type": "code",
   "execution_count": 32,
   "metadata": {},
   "outputs": [
    {
     "data": {
      "text/html": [
       "<div>\n",
       "<style scoped>\n",
       "    .dataframe tbody tr th:only-of-type {\n",
       "        vertical-align: middle;\n",
       "    }\n",
       "\n",
       "    .dataframe tbody tr th {\n",
       "        vertical-align: top;\n",
       "    }\n",
       "\n",
       "    .dataframe thead th {\n",
       "        text-align: right;\n",
       "    }\n",
       "</style>\n",
       "<table border=\"1\" class=\"dataframe\">\n",
       "  <thead>\n",
       "    <tr style=\"text-align: right;\">\n",
       "      <th></th>\n",
       "      <th>comment</th>\n",
       "      <th>emotion</th>\n",
       "      <th>id</th>\n",
       "    </tr>\n",
       "  </thead>\n",
       "  <tbody>\n",
       "    <tr>\n",
       "      <th>6</th>\n",
       "      <td>We need more boards and to create a bit more s...</td>\n",
       "      <td>8,20</td>\n",
       "      <td>ef4qmod</td>\n",
       "    </tr>\n",
       "    <tr>\n",
       "      <th>10</th>\n",
       "      <td>Aww... she'll probably come around eventually,...</td>\n",
       "      <td>1,4</td>\n",
       "      <td>edex4ki</td>\n",
       "    </tr>\n",
       "    <tr>\n",
       "      <th>14</th>\n",
       "      <td>Shit, I guess I accidentally bought a Pay-Per-...</td>\n",
       "      <td>3,12</td>\n",
       "      <td>edivtm3</td>\n",
       "    </tr>\n",
       "    <tr>\n",
       "      <th>18</th>\n",
       "      <td>Maybe that’s what happened to the great white ...</td>\n",
       "      <td>6,22</td>\n",
       "      <td>eczq8zg</td>\n",
       "    </tr>\n",
       "    <tr>\n",
       "      <th>19</th>\n",
       "      <td>I never thought it was at the same moment, but...</td>\n",
       "      <td>6,9,27</td>\n",
       "      <td>efdlhs1</td>\n",
       "    </tr>\n",
       "    <tr>\n",
       "      <th>...</th>\n",
       "      <td>...</td>\n",
       "      <td>...</td>\n",
       "      <td>...</td>\n",
       "    </tr>\n",
       "    <tr>\n",
       "      <th>43381</th>\n",
       "      <td>goat handshake denied Personally, I just thin...</td>\n",
       "      <td>14,27</td>\n",
       "      <td>ef2m53x</td>\n",
       "    </tr>\n",
       "    <tr>\n",
       "      <th>43382</th>\n",
       "      <td>it's horrid :/</td>\n",
       "      <td>14,27</td>\n",
       "      <td>edlbr3j</td>\n",
       "    </tr>\n",
       "    <tr>\n",
       "      <th>43387</th>\n",
       "      <td>Fuck these trendy hipster joints. Give me my s...</td>\n",
       "      <td>2,3</td>\n",
       "      <td>ee3nyiy</td>\n",
       "    </tr>\n",
       "    <tr>\n",
       "      <th>43394</th>\n",
       "      <td>Sorry I kind of took it like you were flexing ...</td>\n",
       "      <td>1,24</td>\n",
       "      <td>eelhhzc</td>\n",
       "    </tr>\n",
       "    <tr>\n",
       "      <th>43403</th>\n",
       "      <td>Your paranoia over it seems schizophrenic to m...</td>\n",
       "      <td>7,27</td>\n",
       "      <td>ef8ymm9</td>\n",
       "    </tr>\n",
       "  </tbody>\n",
       "</table>\n",
       "<p>7102 rows × 3 columns</p>\n",
       "</div>"
      ],
      "text/plain": [
       "                                                 comment emotion       id\n",
       "6      We need more boards and to create a bit more s...    8,20  ef4qmod\n",
       "10     Aww... she'll probably come around eventually,...     1,4  edex4ki\n",
       "14     Shit, I guess I accidentally bought a Pay-Per-...    3,12  edivtm3\n",
       "18     Maybe that’s what happened to the great white ...    6,22  eczq8zg\n",
       "19     I never thought it was at the same moment, but...  6,9,27  efdlhs1\n",
       "...                                                  ...     ...      ...\n",
       "43381   goat handshake denied Personally, I just thin...   14,27  ef2m53x\n",
       "43382                                     it's horrid :/   14,27  edlbr3j\n",
       "43387  Fuck these trendy hipster joints. Give me my s...     2,3  ee3nyiy\n",
       "43394  Sorry I kind of took it like you were flexing ...    1,24  eelhhzc\n",
       "43403  Your paranoia over it seems schizophrenic to m...    7,27  ef8ymm9\n",
       "\n",
       "[7102 rows x 3 columns]"
      ]
     },
     "execution_count": 32,
     "metadata": {},
     "output_type": "execute_result"
    }
   ],
   "source": [
    "# Instances with more than 1 emotion\n",
    "train_data[train_data['emotion'].apply(lambda x: len(x.split(',')) > 1)]"
   ]
  },
  {
   "cell_type": "markdown",
   "metadata": {},
   "source": [
    "### We will remove instances with more than one emotion to make it simple"
   ]
  },
  {
   "cell_type": "code",
   "execution_count": 33,
   "metadata": {},
   "outputs": [],
   "source": [
    "# Remove instances with more than one emotion from each dataset\n",
    "clean_train_df = train_data[train_data['emotion'].apply(lambda x: len(x.split(',')) == 1)]"
   ]
  },
  {
   "cell_type": "code",
   "execution_count": 34,
   "metadata": {},
   "outputs": [
    {
     "name": "stderr",
     "output_type": "stream",
     "text": [
      "/var/folders/xd/gw_pmm5d23s8dm3h09tn28x00000gn/T/ipykernel_23066/3084032638.py:5: FutureWarning: \n",
      "\n",
      "Passing `palette` without assigning `hue` is deprecated and will be removed in v0.14.0. Assign the `x` variable to `hue` and set `legend=False` for the same effect.\n",
      "\n",
      "  sns.barplot(x=['Before', 'After'], y=[len(train_data), len(clean_train_df)], palette='viridis')\n"
     ]
    },
    {
     "data": {
      "image/png": "[encoded data removed]",
      "text/plain": [
       "<Figure size 640x480 with 1 Axes>"
      ]
     },
     "metadata": {},
     "output_type": "display_data"
    }
   ],
   "source": [
    "# Plot a barplot with one bar showing the number of instances before removing those with multiple emotions\n",
    "# and another bar showing the number of instances after removing them\n",
    "import seaborn as sns\n",
    "import matplotlib.pyplot as plt\n",
    "sns.barplot(x=['Before', 'After'], y=[len(train_data), len(clean_train_df)], palette='viridis')\n",
    "plt.title('Number of instances before and after removing instances with multiple emotions')\n",
    "plt.ylabel('Number of instances')\n",
    "plt.show()"
   ]
  },
  {
   "cell_type": "markdown",
   "metadata": {},
   "source": [
    "### Emotion distribution"
   ]
  },
  {
   "cell_type": "code",
   "execution_count": 38,
   "metadata": {},
   "outputs": [],
   "source": [
    "# Add a column to clean_train_df that maps the emotions to their corresponding string values\n",
    "clean_train_df.loc[:, 'emotion_str'] = clean_train_df['emotion'].apply(lambda x: emotions_dict[int(x)])"
   ]
  },
  {
   "cell_type": "code",
   "execution_count": 62,
   "metadata": {},
   "outputs": [
    {
     "name": "stderr",
     "output_type": "stream",
     "text": [
      "/var/folders/xd/gw_pmm5d23s8dm3h09tn28x00000gn/T/ipykernel_23066/2875208372.py:8: FutureWarning: \n",
      "\n",
      "Passing `palette` without assigning `hue` is deprecated and will be removed in v0.14.0. Assign the `y` variable to `hue` and set `legend=False` for the same effect.\n",
      "\n",
      "  ax = sns.countplot(\n"
     ]
    },
    {
     "data": {
      "image/png": "[encoded data removed]",
      "text/plain": [
       "<Figure size 1000x600 with 1 Axes>"
      ]
     },
     "metadata": {},
     "output_type": "display_data"
    }
   ],
   "source": [
    "# This will plot the distribution of emotions in the dataset and use emotions_dict\n",
    "# the emotions should be ordered by the number of instances in the dataset\n",
    "\n",
    "# emotion value counts\n",
    "emotion_value_counts = clean_train_df['emotion_str'].value_counts()\n",
    "\n",
    "plt.figure(figsize=(10, 6))\n",
    "ax = sns.countplot(\n",
    "    y='emotion_str', \n",
    "    data=clean_train_df, \n",
    "    order=emotion_value_counts.index, \n",
    "    palette='viridis'\n",
    ")\n",
    "\n",
    "# Add the number of instances at the end of each bar\n",
    "for p in ax.patches:\n",
    "    ax.annotate(\n",
    "        f'{p.get_width():.0f}', \n",
    "        (p.get_width(), p.get_y() + p.get_height() / 2),\n",
    "        ha='left', va='center',\n",
    "        xytext=(5, 0),  # Use more offset to ensure the text does not overlap with the bars\n",
    "        textcoords='offset points'\n",
    "    )\n",
    "\n",
    "plt.xlim(0, 13822)\n",
    "\n",
    "# Set plot title and labels\n",
    "plt.title('Distribution of Emotions in the Dataset')\n",
    "plt.xlabel('Number of Instances')\n",
    "plt.ylabel('Emotion')\n",
    "plt.show()"
   ]
  }
 ],
 "metadata": {
  "kernelspec": {
   "display_name": "testk",
   "language": "python",
   "name": "python3"
  },
  "language_info": {
   "codemirror_mode": {
    "name": "ipython",
    "version": 3
   },
   "file_extension": ".py",
   "mimetype": "text/x-python",
   "name": "python",
   "nbconvert_exporter": "python",
   "pygments_lexer": "ipython3",
   "version": "3.12.2"
  }
 },
 "nbformat": 4,
 "nbformat_minor": 2
}
