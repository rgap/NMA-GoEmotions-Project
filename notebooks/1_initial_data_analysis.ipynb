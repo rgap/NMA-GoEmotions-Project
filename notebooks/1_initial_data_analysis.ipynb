{
 "cells": [
  {
   "cell_type": "markdown",
   "metadata": {},
   "source": [
    "# Sentiment Analysis Thing"
   ]
  },
  {
   "cell_type": "code",
   "execution_count": 2,
   "metadata": {},
   "outputs": [],
   "source": [
    "import pandas as pd\n",
    "\n",
    "# Download the test data\n",
    "test_data_url = \"https://raw.githubusercontent.com/google-research/google-research/master/goemotions/data/test.tsv\"\n",
    "# Download and load the train data:\n",
    "train_data_url = 'https://raw.githubusercontent.com/google-research/google-research/2adf640a14f11025ae5a9d0ec493b78530d276d3/goemotions/data/train.tsv'\n",
    "# Download and load the validation data:\n",
    "dev_data_url = 'https://raw.githubusercontent.com/google-research/google-research/2adf640a14f11025ae5a9d0ec493b78530d276d3/goemotions/data/dev.tsv'\n",
    "\n",
    "# Load the files into dataframes\n",
    "train_data = pd.read_csv(train_data_url, sep='\\t')\n",
    "dev_data = pd.read_csv(dev_data_url, sep='\\t')\n",
    "test_data = pd.read_csv(test_data_url, sep='\\t')"
   ]
  },
  {
   "cell_type": "markdown",
   "metadata": {},
   "source": [
    "# Data Understanding\n",
    "\n",
    "## Checking each dataset"
   ]
  },
  {
   "cell_type": "code",
   "execution_count": 3,
   "metadata": {},
   "outputs": [
    {
     "data": {
      "text/html": [
       "<div>\n",
       "<style scoped>\n",
       "    .dataframe tbody tr th:only-of-type {\n",
       "        vertical-align: middle;\n",
       "    }\n",
       "\n",
       "    .dataframe tbody tr th {\n",
       "        vertical-align: top;\n",
       "    }\n",
       "\n",
       "    .dataframe thead th {\n",
       "        text-align: right;\n",
       "    }\n",
       "</style>\n",
       "<table border=\"1\" class=\"dataframe\">\n",
       "  <thead>\n",
       "    <tr style=\"text-align: right;\">\n",
       "      <th></th>\n",
       "      <th>My favourite food is anything I didn't have to cook myself.</th>\n",
       "      <th>27</th>\n",
       "      <th>eebbqej</th>\n",
       "    </tr>\n",
       "  </thead>\n",
       "  <tbody>\n",
       "    <tr>\n",
       "      <th>0</th>\n",
       "      <td>Now if he does off himself, everyone will thin...</td>\n",
       "      <td>27</td>\n",
       "      <td>ed00q6i</td>\n",
       "    </tr>\n",
       "    <tr>\n",
       "      <th>1</th>\n",
       "      <td>WHY THE FUCK IS BAYLESS ISOING</td>\n",
       "      <td>2</td>\n",
       "      <td>eezlygj</td>\n",
       "    </tr>\n",
       "  </tbody>\n",
       "</table>\n",
       "</div>"
      ],
      "text/plain": [
       "  My favourite food is anything I didn't have to cook myself.  27  eebbqej\n",
       "0  Now if he does off himself, everyone will thin...           27  ed00q6i\n",
       "1                     WHY THE FUCK IS BAYLESS ISOING            2  eezlygj"
      ]
     },
     "execution_count": 3,
     "metadata": {},
     "output_type": "execute_result"
    }
   ],
   "source": [
    "# Checking each dataset\n",
    "train_data.head(2)"
   ]
  },
  {
   "cell_type": "code",
   "execution_count": 4,
   "metadata": {},
   "outputs": [
    {
     "data": {
      "text/html": [
       "<div>\n",
       "<style scoped>\n",
       "    .dataframe tbody tr th:only-of-type {\n",
       "        vertical-align: middle;\n",
       "    }\n",
       "\n",
       "    .dataframe tbody tr th {\n",
       "        vertical-align: top;\n",
       "    }\n",
       "\n",
       "    .dataframe thead th {\n",
       "        text-align: right;\n",
       "    }\n",
       "</style>\n",
       "<table border=\"1\" class=\"dataframe\">\n",
       "  <thead>\n",
       "    <tr style=\"text-align: right;\">\n",
       "      <th></th>\n",
       "      <th>Is this in New Orleans?? I really feel like this is New Orleans.</th>\n",
       "      <th>27</th>\n",
       "      <th>edgurhb</th>\n",
       "    </tr>\n",
       "  </thead>\n",
       "  <tbody>\n",
       "    <tr>\n",
       "      <th>0</th>\n",
       "      <td>You know the answer man, you are programmed to...</td>\n",
       "      <td>4,27</td>\n",
       "      <td>ee84bjg</td>\n",
       "    </tr>\n",
       "    <tr>\n",
       "      <th>1</th>\n",
       "      <td>I've never been this sad in my life!</td>\n",
       "      <td>25</td>\n",
       "      <td>edcu99z</td>\n",
       "    </tr>\n",
       "  </tbody>\n",
       "</table>\n",
       "</div>"
      ],
      "text/plain": [
       "  Is this in New Orleans?? I really feel like this is New Orleans.    27  \\\n",
       "0  You know the answer man, you are programmed to...                4,27   \n",
       "1               I've never been this sad in my life!                  25   \n",
       "\n",
       "   edgurhb  \n",
       "0  ee84bjg  \n",
       "1  edcu99z  "
      ]
     },
     "execution_count": 4,
     "metadata": {},
     "output_type": "execute_result"
    }
   ],
   "source": [
    "dev_data.head(2)"
   ]
  },
  {
   "cell_type": "code",
   "execution_count": 5,
   "metadata": {},
   "outputs": [
    {
     "data": {
      "text/html": [
       "<div>\n",
       "<style scoped>\n",
       "    .dataframe tbody tr th:only-of-type {\n",
       "        vertical-align: middle;\n",
       "    }\n",
       "\n",
       "    .dataframe tbody tr th {\n",
       "        vertical-align: top;\n",
       "    }\n",
       "\n",
       "    .dataframe thead th {\n",
       "        text-align: right;\n",
       "    }\n",
       "</style>\n",
       "<table border=\"1\" class=\"dataframe\">\n",
       "  <thead>\n",
       "    <tr style=\"text-align: right;\">\n",
       "      <th></th>\n",
       "      <th>I’m really sorry about your situation :( Although I love the names Sapphira, Cirilla, and Scarlett!</th>\n",
       "      <th>25</th>\n",
       "      <th>eecwqtt</th>\n",
       "    </tr>\n",
       "  </thead>\n",
       "  <tbody>\n",
       "    <tr>\n",
       "      <th>0</th>\n",
       "      <td>It's wonderful because it's awful. At not with.</td>\n",
       "      <td>0</td>\n",
       "      <td>ed5f85d</td>\n",
       "    </tr>\n",
       "    <tr>\n",
       "      <th>1</th>\n",
       "      <td>Kings fan here, good luck to you guys! Will be...</td>\n",
       "      <td>13</td>\n",
       "      <td>een27c3</td>\n",
       "    </tr>\n",
       "  </tbody>\n",
       "</table>\n",
       "</div>"
      ],
      "text/plain": [
       "  I’m really sorry about your situation :( Although I love the names Sapphira, Cirilla, and Scarlett!  \\\n",
       "0    It's wonderful because it's awful. At not with.                                                    \n",
       "1  Kings fan here, good luck to you guys! Will be...                                                    \n",
       "\n",
       "   25  eecwqtt  \n",
       "0   0  ed5f85d  \n",
       "1  13  een27c3  "
      ]
     },
     "execution_count": 5,
     "metadata": {},
     "output_type": "execute_result"
    }
   ],
   "source": [
    "test_data.head(2)"
   ]
  },
  {
   "cell_type": "markdown",
   "metadata": {},
   "source": [
    "## Describing the Data"
   ]
  },
  {
   "cell_type": "code",
   "execution_count": 6,
   "metadata": {},
   "outputs": [
    {
     "name": "stdout",
     "output_type": "stream",
     "text": [
      "train_data (43409, 3)\n"
     ]
    }
   ],
   "source": [
    "# checking shapes\n",
    "print(\"train_data\", train_data.shape)"
   ]
  },
  {
   "cell_type": "code",
   "execution_count": 7,
   "metadata": {},
   "outputs": [
    {
     "name": "stdout",
     "output_type": "stream",
     "text": [
      "dev_data (5425, 3)\n"
     ]
    }
   ],
   "source": [
    "print(\"dev_data\", dev_data.shape)"
   ]
  },
  {
   "cell_type": "code",
   "execution_count": 8,
   "metadata": {},
   "outputs": [
    {
     "name": "stdout",
     "output_type": "stream",
     "text": [
      "test_data (5426, 3)\n"
     ]
    }
   ],
   "source": [
    "print(\"test_data\", test_data.shape)"
   ]
  },
  {
   "cell_type": "markdown",
   "metadata": {},
   "source": [
    "## Adding a header\n",
    "\n",
    "We add a header to the test data since it does not have one"
   ]
  },
  {
   "cell_type": "code",
   "execution_count": 9,
   "metadata": {},
   "outputs": [
    {
     "data": {
      "text/html": [
       "<div>\n",
       "<style scoped>\n",
       "    .dataframe tbody tr th:only-of-type {\n",
       "        vertical-align: middle;\n",
       "    }\n",
       "\n",
       "    .dataframe tbody tr th {\n",
       "        vertical-align: top;\n",
       "    }\n",
       "\n",
       "    .dataframe thead th {\n",
       "        text-align: right;\n",
       "    }\n",
       "</style>\n",
       "<table border=\"1\" class=\"dataframe\">\n",
       "  <thead>\n",
       "    <tr style=\"text-align: right;\">\n",
       "      <th></th>\n",
       "      <th>comment</th>\n",
       "      <th>emotion</th>\n",
       "      <th>id</th>\n",
       "    </tr>\n",
       "  </thead>\n",
       "  <tbody>\n",
       "    <tr>\n",
       "      <th>0</th>\n",
       "      <td>It's wonderful because it's awful. At not with.</td>\n",
       "      <td>0</td>\n",
       "      <td>ed5f85d</td>\n",
       "    </tr>\n",
       "    <tr>\n",
       "      <th>1</th>\n",
       "      <td>Kings fan here, good luck to you guys! Will be...</td>\n",
       "      <td>13</td>\n",
       "      <td>een27c3</td>\n",
       "    </tr>\n",
       "    <tr>\n",
       "      <th>2</th>\n",
       "      <td>I didn't know that, thank you for teaching me ...</td>\n",
       "      <td>15</td>\n",
       "      <td>eelgwd1</td>\n",
       "    </tr>\n",
       "    <tr>\n",
       "      <th>3</th>\n",
       "      <td>They got bored from haunting earth for thousan...</td>\n",
       "      <td>27</td>\n",
       "      <td>eem5uti</td>\n",
       "    </tr>\n",
       "  </tbody>\n",
       "</table>\n",
       "</div>"
      ],
      "text/plain": [
       "                                             comment emotion       id\n",
       "0    It's wonderful because it's awful. At not with.       0  ed5f85d\n",
       "1  Kings fan here, good luck to you guys! Will be...      13  een27c3\n",
       "2  I didn't know that, thank you for teaching me ...      15  eelgwd1\n",
       "3  They got bored from haunting earth for thousan...      27  eem5uti"
      ]
     },
     "execution_count": 9,
     "metadata": {},
     "output_type": "execute_result"
    }
   ],
   "source": [
    "header = [\"comment\", \"emotion\", \"id\"]\n",
    "# Add header to test data\n",
    "test_data.columns = header\n",
    "# Print the data now\n",
    "test_data.head(4)"
   ]
  },
  {
   "cell_type": "markdown",
   "metadata": {},
   "source": [
    "# Understanding Emotions\n",
    "\n",
    "We have 28 emotions?"
   ]
  },
  {
   "cell_type": "code",
   "execution_count": 10,
   "metadata": {},
   "outputs": [
    {
     "data": {
      "text/plain": [
       "array(['0', '13', '15', '27', '24', '25', '3,10', '1,18', '8', '0,7',\n",
       "       '14', '10', '25,27', '1', '6,27', '0,18', '7', '20', '4,27', '0,1',\n",
       "       '5', '17,26', '4', '10,27', '14,27', '18', '6,20', '9', '3',\n",
       "       '5,20', '10,18', '0,22', '2,3', '7,27', '6', '7,17', '22', '26',\n",
       "       '13,27', '5,18', '3,27', '2', '17,18', '5,18,20', '0,26', '7,8',\n",
       "       '11', '17,20', '3,25', '12', '15,18', '1,4', '4,15', '5,24',\n",
       "       '24,25', '22,27', '15,22', '19', '17', '21', '3,10,11', '3,4',\n",
       "       '0,17', '2,11', '1,3', '8,20', '14,25', '20,26', '7,26', '7,12',\n",
       "       '3,7', '0,20', '0,4', '2,27', '8,26', '4,18', '25,26', '3,11',\n",
       "       '5,8,20', '9,25', '1,27', '1,6', '3,6,7', '13,26', '15,26', '4,5',\n",
       "       '4,10', '13,20', '8,27', '4,8', '5,10', '0,1,4', '5,15', '6,15',\n",
       "       '5,8', '10,11', '4,17', '15,27', '0,21', '0,10', '4,9', '3,5',\n",
       "       '15,20', '0,1,17', '3,9', '23', '17,27', '1,15', '0,27', '0,11',\n",
       "       '19,27', '16', '15,17', '0,13,18', '0,13', '17,23', '0,15', '3,14',\n",
       "       '0,13,20', '7,18', '6,7', '9,24', '22,26', '5,17,23', '0,6',\n",
       "       '13,17', '4,7', '0,25', '4,20', '1,7', '1,3,5', '4,22', '3,20',\n",
       "       '1,22', '6,10', '11,19', '0,7,15', '1,26', '0,5', '2,3,9', '26,27',\n",
       "       '1,24', '19,22', '18,27', '11,26', '0,13,15', '8,18,25', '3,25,27',\n",
       "       '7,11', '3,6,27', '9,27', '2,10,11', '1,11', '14,26', '18,19',\n",
       "       '4,20,21', '10,15', '10,25', '1,4,27', '2,18', '1,17', '0,2',\n",
       "       '20,25', '4,13,27', '1,25', '4,22,26', '7,25', '1,15,17', '7,22',\n",
       "       '6,12', '1,8', '2,10', '0,5,20', '9,22', '5,22', '3,9,11', '9,18',\n",
       "       '2,7', '0,17,20,26', '9,11', '12,22', '0,4,27', '14,19', '10,22',\n",
       "       '0,4,18', '11,14', '7,10', '2,9,11', '15,25', '0,13,27', '13,15',\n",
       "       '20,27', '20,24', '4,7,18', '1,10', '1,8,25', '4,26', '5,27',\n",
       "       '2,20', '0,9', '5,7', '5,9,25', '3,26', '18,22', '3,12', '7,15',\n",
       "       '8,18', '12,20', '9,12', '0,1,20', '2,9', '11,27', '20,22', '2,25',\n",
       "       '1,20', '10,20', '12,27', '16,25', '9,13', '8,9', '12,25', '17,22',\n",
       "       '4,13,17', '18,25', '3,6', '7,24', '22,25', '1,14', '6,11',\n",
       "       '8,19,25', '3,15', '4,11', '16,25,26', '9,10', '3,18', '3,9,10',\n",
       "       '9,15', '4,13,26', '6,11,27', '13,18', '1,11,22', '2,11,27',\n",
       "       '11,12', '7,23', '0,7,18', '4,5,27', '17,21', '9,26', '8,13',\n",
       "       '7,9', '15,20,22', '0,4,7', '6,22', '7,20,26', '4,5,18', '7,13,26',\n",
       "       '24,27', '2,24', '11,18', '19,24,25', '21,27', '0,14', '2,15',\n",
       "       '0,15,19', '0,6,13,17', '8,13,20', '6,7,27', '5,13', '2,6',\n",
       "       '0,15,20', '6,17,22', '2,3,10', '0,1,22', '1,20,27', '10,12'],\n",
       "      dtype=object)"
      ]
     },
     "execution_count": 10,
     "metadata": {},
     "output_type": "execute_result"
    }
   ],
   "source": [
    "# Check emotions in the code. the \"emotion\" column\n",
    "test_data.emotion.unique()"
   ]
  },
  {
   "cell_type": "markdown",
   "metadata": {},
   "source": [
    "### Getting all emotions into a list"
   ]
  },
  {
   "cell_type": "code",
   "execution_count": 11,
   "metadata": {},
   "outputs": [
    {
     "data": {
      "text/plain": [
       "[0, 13, 15, 27, 15, 15, 15, 24, 25, 3]"
      ]
     },
     "execution_count": 11,
     "metadata": {},
     "output_type": "execute_result"
    }
   ],
   "source": [
    "test_data.emotion.str.split(',').head(10)\n",
    "# append all the emotions in the test data in a list but convert each one into integer\n",
    "emotions = []\n",
    "for i in test_data.emotion.str.split(','):\n",
    "    for j in i:\n",
    "        emotions.append(int(j))\n",
    "emotions[:10]"
   ]
  },
  {
   "cell_type": "markdown",
   "metadata": {},
   "source": [
    "### All emotions into a set to check all emotions available"
   ]
  },
  {
   "cell_type": "code",
   "execution_count": 12,
   "metadata": {},
   "outputs": [
    {
     "data": {
      "text/plain": [
       "[0, 1, 2, 3, 4, 5, 6, 7, 8, 9]"
      ]
     },
     "execution_count": 12,
     "metadata": {},
     "output_type": "execute_result"
    }
   ],
   "source": [
    "# There are 28 emotions in the test data\n",
    "set(emotions)\n",
    "# Show only 10\n",
    "list(set(emotions))[:10]"
   ]
  },
  {
   "cell_type": "code",
   "execution_count": 13,
   "metadata": {},
   "outputs": [],
   "source": [
    "\"\"\"\n",
    "Below are the 28 emotions in the test data\n",
    "admiration\n",
    "amusement\n",
    "anger\n",
    "annoyance\n",
    "approval\n",
    "caring\n",
    "confusion\n",
    "curiosity\n",
    "desire\n",
    "disappointment\n",
    "disapproval\n",
    "disgust\n",
    "embarrassment\n",
    "excitement\n",
    "fear\n",
    "gratitude\n",
    "grief\n",
    "joy\n",
    "love\n",
    "nervousness\n",
    "optimism\n",
    "pride\n",
    "realization\n",
    "relief\n",
    "remorse\n",
    "sadness\n",
    "surprise\n",
    "neutral\n",
    "\"\"\"\n",
    "# Making a dictionary of the emotions\n",
    "emotions_dict = {\n",
    "    0: \"admiration\",\n",
    "    1: \"amusement\",\n",
    "    2: \"anger\",\n",
    "    3: \"annoyance\",\n",
    "    4: \"approval\",\n",
    "    5: \"caring\",\n",
    "    6: \"confusion\",\n",
    "    7: \"curiosity\",\n",
    "    8: \"desire\",\n",
    "    9: \"disappointment\",\n",
    "    10: \"disapproval\",\n",
    "    11: \"disgust\",\n",
    "    12: \"embarrassment\",\n",
    "    13: \"excitement\",\n",
    "    14: \"fear\",\n",
    "    15: \"gratitude\",\n",
    "    16: \"grief\",\n",
    "    17: \"joy\",\n",
    "    18: \"love\",\n",
    "    19: \"nervousness\",\n",
    "    20: \"optimism\",\n",
    "    21: \"pride\",\n",
    "    22: \"realization\",\n",
    "    23: \"relief\",\n",
    "    24: \"remorse\",\n",
    "    25: \"sadness\",\n",
    "    26: \"surprise\",\n",
    "    27: \"neutral\"\n",
    "}"
   ]
  }
 ],
 "metadata": {
  "kernelspec": {
   "display_name": "testk",
   "language": "python",
   "name": "python3"
  },
  "language_info": {
   "codemirror_mode": {
    "name": "ipython",
    "version": 3
   },
   "file_extension": ".py",
   "mimetype": "text/x-python",
   "name": "python",
   "nbconvert_exporter": "python",
   "pygments_lexer": "ipython3",
   "version": "3.12.2"
  }
 },
 "nbformat": 4,
 "nbformat_minor": 2
}
